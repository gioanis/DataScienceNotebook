{
 "cells": [
  {
   "cell_type": "markdown",
   "id": "747482c0-54f4-4e77-9442-9eabc751f957",
   "metadata": {},
   "source": [
    "# Data Science Tools and Ecosystem\n"
   ]
  },
  {
   "cell_type": "markdown",
   "id": "9c384ccd-f9ef-40e5-a7cb-29d8e93130d3",
   "metadata": {},
   "source": [
    "## Author\n",
    "Jessica Perez"
   ]
  },
  {
   "cell_type": "markdown",
   "id": "fc7491b0-797e-44eb-8c4e-1c947875acc3",
   "metadata": {},
   "source": [
    "In this notebook, Data Science Tools and Ecosystem are summarized"
   ]
  },
  {
   "cell_type": "markdown",
   "id": "edb07363-53d1-43d3-8f28-baeae17b9614",
   "metadata": {},
   "source": [
    "**Objectives:**\n",
    "- List popular languages for Data Science\n",
    "- List common used libraries for Data Science\n",
    "- List common data science tools\n",
    "- Execute examples of simple arithmetic operations in Python"
   ]
  },
  {
   "cell_type": "markdown",
   "id": "45177d19-1ae4-4e05-ab4f-7a8c1d266866",
   "metadata": {},
   "source": [
    "Some of the popular languages that Data Scientists use are:\n",
    "1. Python\n",
    "2. R\n",
    "3. SQL"
   ]
  },
  {
   "cell_type": "markdown",
   "id": "66c19d2b-92c7-4fa7-8fda-f24f35983efa",
   "metadata": {},
   "source": [
    "Some of the commonly used libraries used by Data Scientists include:\n",
    "1. Pandas\n",
    "2. Matplotlib\n",
    "3. Pytorch\n",
    "4. ggplot2\n",
    "5. Numpy"
   ]
  },
  {
   "cell_type": "markdown",
   "id": "38f6d70e-7874-4917-b0a7-10872354aa1a",
   "metadata": {},
   "source": [
    "| Data Science Tools |\n",
    "|---------|\n",
    "| Jupyter IDE |\n",
    "| RStudio |\n",
    "| Spyder |\n"
   ]
  },
  {
   "cell_type": "markdown",
   "id": "ee298fb3-0ee0-4a8b-af1a-6a41de4b5341",
   "metadata": {},
   "source": [
    "### Below are a few examples of evaluating arithmetic expressions in Python"
   ]
  },
  {
   "cell_type": "code",
   "execution_count": 1,
   "id": "5d11d518-b8d8-4882-aad2-88fd1cc67934",
   "metadata": {},
   "outputs": [
    {
     "data": {
      "text/plain": [
       "17"
      ]
     },
     "execution_count": 1,
     "metadata": {},
     "output_type": "execute_result"
    }
   ],
   "source": [
    "# This is a simple arithmetic expression to multiply then add integers\n",
    "(3*4)+5\n"
   ]
  },
  {
   "cell_type": "code",
   "execution_count": 2,
   "id": "30e9d1d8-41cf-4126-911a-919c6df23cb0",
   "metadata": {},
   "outputs": [
    {
     "data": {
      "text/plain": [
       "3.3333333333333335"
      ]
     },
     "execution_count": 2,
     "metadata": {},
     "output_type": "execute_result"
    }
   ],
   "source": [
    "# This will convert 200 minutes to hours by dividing by 60\n",
    "200/60"
   ]
  },
  {
   "cell_type": "markdown",
   "id": "9597abe8-1f99-4969-b2cb-8846c2d29e3c",
   "metadata": {},
   "source": []
  }
 ],
 "metadata": {
  "kernelspec": {
   "display_name": "Python 3 (ipykernel)",
   "language": "python",
   "name": "python3"
  },
  "language_info": {
   "codemirror_mode": {
    "name": "ipython",
    "version": 3
   },
   "file_extension": ".py",
   "mimetype": "text/x-python",
   "name": "python",
   "nbconvert_exporter": "python",
   "pygments_lexer": "ipython3",
   "version": "3.12.8"
  }
 },
 "nbformat": 4,
 "nbformat_minor": 5
}
